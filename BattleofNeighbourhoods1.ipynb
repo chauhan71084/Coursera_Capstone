{
 "cells": [
  {
   "cell_type": "markdown",
   "id": "limited-fields",
   "metadata": {},
   "source": [
    "## Business Problem and Discussion"
   ]
  },
  {
   "cell_type": "markdown",
   "id": "violent-intensity",
   "metadata": {},
   "source": [
    "In this project we will try to find nearby schools all over the Hong Kong Districts as per Finance Type. Specifically, this report will be targeted to Realtors interested in arranging houses for newly arrived families with kids who are finding  Schools in Hong Kong nearby to their place.\n",
    "\n",
    "Since there are lots of schools in Hong Kong, we will try to detect **locations that are suitable as per budget**. We would also prefer locations **as close to given location as possible**.\n",
    "\n",
    "We will use our data science powers to generate a few most promissing Districts based on this criteria. Advantages of each area will then be clearly expressed so that best possible final location can be chosen by stakeholders."
   ]
  },
  {
   "cell_type": "markdown",
   "id": "material-ceramic",
   "metadata": {},
   "source": [
    "Our analysis will show that although there are a great number of schools in Hong kong but which one's are close to nearby districts within avarage income. \n",
    "\n",
    "Once done, We will be able to identify most common schools and which will help families to identify the schools according to avarage income."
   ]
  },
  {
   "cell_type": "markdown",
   "id": "prerequisite-review",
   "metadata": {},
   "source": [
    "## Data Analysis"
   ]
  },
  {
   "cell_type": "markdown",
   "id": "amended-minutes",
   "metadata": {},
   "source": [
    "Based on definition of our problem, factors that will influence our decission are:\n",
    "* number of existing schools in the neighborhood.\n",
    "* Type of Schools.\n",
    "\n",
    "Following data sources will be needed to extract/generate the required information:\n",
    "* List of Districts will be generated algorithmically and approximate addresses of centers of those areas will be obtained using **wikipedia link**\n",
    "* number of schools and their type and location in every districts will be obtained using **EDB json file**\n",
    "* coordinates of Hong Kong will be obtained using **Google Maps API geocoding** of any given location."
   ]
  },
  {
   "cell_type": "markdown",
   "id": "strong-launch",
   "metadata": {},
   "source": [
    "In this project we will direct our efforts on detecting schools of Hong kong districts which are suitable for all families with average income.\n",
    "\n",
    "In first step we have collected the required **data: location and type (Finance) of every schools nearby from Any given District of Hong Kong**.\n",
    "\n",
    "Second step in our analysis will be calculation and exploration of '**finance Type**' across different areas of Hong Kong - we will use Bar Charts to identify a few promising school types close to district.\n",
    "\n",
    "In third and final step we will focus on most promising areas and within those create **clusters of locations that meet some basic requirements** established in discussion with stakeholders: we will take into consideration locations with **top 5 schools**. We will present map of all such locations but also create clusters (using **k-means clustering**) of those locations to identify general area / District / location which should be a starting point for final 'street level' exploration and search for optimal school types for families."
   ]
  }
 ],
 "metadata": {
  "kernelspec": {
   "display_name": "Python 3",
   "language": "python",
   "name": "python3"
  },
  "language_info": {
   "codemirror_mode": {
    "name": "ipython",
    "version": 3
   },
   "file_extension": ".py",
   "mimetype": "text/x-python",
   "name": "python",
   "nbconvert_exporter": "python",
   "pygments_lexer": "ipython3",
   "version": "3.8.2"
  }
 },
 "nbformat": 4,
 "nbformat_minor": 5
}
